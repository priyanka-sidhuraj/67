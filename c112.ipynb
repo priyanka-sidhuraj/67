{
  "nbformat": 4,
  "nbformat_minor": 0,
  "metadata": {
    "colab": {
      "name": "c112",
      "provenance": [],
      "authorship_tag": "ABX9TyMCIjfqw+yYc2KThtjI4107",
      "include_colab_link": true
    },
    "kernelspec": {
      "name": "python3",
      "display_name": "Python 3"
    },
    "language_info": {
      "name": "python"
    }
  },
  "cells": [
    {
      "cell_type": "markdown",
      "metadata": {
        "id": "view-in-github",
        "colab_type": "text"
      },
      "source": [
        "<a href=\"https://colab.research.google.com/github/priyanka-sidhuraj/67/blob/master/c112.ipynb\" target=\"_parent\"><img src=\"https://colab.research.google.com/assets/colab-badge.svg\" alt=\"Open In Colab\"/></a>"
      ]
    },
    {
      "cell_type": "code",
      "execution_count": null,
      "metadata": {
        "id": "YmjkeRh0DBH3"
      },
      "outputs": [],
      "source": [
        "import pandas as pd\n",
        "import statistics\n",
        "import plotly.express as px\n",
        "\n",
        "\n",
        "\n",
        "#Plotting the graph\n",
        "df = pd.read_csv(\"savings_data_final.csv\")\n",
        "fig = px.scatter(df, y=\"quant_saved\", color=\"rem_any\")\n",
        "fig.show()"
      ]
    },
    {
      "cell_type": "code",
      "source": [
        "import csv\n",
        "\n",
        "with open('savings_data_final.csv', newline=\"\") as f:\n",
        "  reader = csv.reader(f)\n",
        "  savings_data = list(reader)\n",
        "\n",
        "savings_data.pop(0) #to remove the headings\n",
        "\n",
        "#Finding total number of people and number of people who were reminded\n",
        "total_entries = len(savings_data)\n",
        "total_people_given_reminder = 0\n",
        "for data in savings_data:\n",
        "  if int(data[3]) == 1:\n",
        "    total_people_given_reminder += 1\n",
        "\n",
        "import plotly.graph_objects as go\n",
        "\n",
        "fig = go.Figure(go.Bar(x=[\"Reminded\", \"Not Reminded\"], y=[total_people_given_reminder, (total_entries - total_people_given_reminder)]))\n",
        "\n",
        "fig.show()"
      ],
      "metadata": {
        "id": "Ve00SKgWDELr"
      },
      "execution_count": null,
      "outputs": []
    },
    {
      "cell_type": "code",
      "source": [
        "#Mean, median and mode of savings\n",
        "all_savings = []\n",
        "for data in savings_data:\n",
        "  all_savings.append(float(data[0]))\n",
        "\n",
        "print(f\"Mean of savings - {statistics.mean(all_savings)}\")\n",
        "print(f\"Median of savings - {statistics.median(all_savings)}\")\n",
        "print(f\"Mode of savings - {statistics.mode(all_savings)}\")"
      ],
      "metadata": {
        "id": "Oe-1BJG7DG3G"
      },
      "execution_count": null,
      "outputs": []
    },
    {
      "cell_type": "code",
      "source": [
        "#Mean, median and mode of savings\n",
        "reminded_savings = []\n",
        "not_reminded_savings = []\n",
        "for data in savings_data:\n",
        "  if int(data[3]) == 1:\n",
        "    reminded_savings.append(float(data[0]))\n",
        "  else:\n",
        "    not_reminded_savings.append(float(data[0]))\n",
        "\n",
        "print(\"Results for people who were reminded to save\")\n",
        "print(f\"Mean of savings - {statistics.mean(reminded_savings)}\")\n",
        "print(f\"Median of savings - {statistics.median(reminded_savings)}\")\n",
        "print(f\"Mode of savings - {statistics.mode(reminded_savings)}\")\n",
        "#To add new lines\n",
        "print(\"\\n\\n\")\n",
        "print(\"Results for people who were not reminded to save\")\n",
        "print(f\"Mean of savings - {statistics.mean(not_reminded_savings)}\")\n",
        "print(f\"Median of savings - {statistics.median(not_reminded_savings)}\")\n",
        "print(f\"Mode of savings - {statistics.mode(not_reminded_savings)}\")"
      ],
      "metadata": {
        "id": "KeEFuYW6DJMN"
      },
      "execution_count": null,
      "outputs": []
    },
    {
      "cell_type": "code",
      "source": [
        "print(f\"Standard deviation of all the data -> {statistics.stdev(all_savings)}\")\n",
        "print(f\"Standard deviation of people who were reminded -> {statistics.stdev(reminded_savings)}\")\n",
        "print(f\"Standard deviation of people who were not reminded -> {statistics.stdev(not_reminded_savings)}\")"
      ],
      "metadata": {
        "id": "Axc8g0yhDL2V"
      },
      "execution_count": null,
      "outputs": []
    },
    {
      "cell_type": "code",
      "source": [
        "import numpy as np\n",
        "\n",
        "age = []\n",
        "savings = []\n",
        "for data in savings_data:\n",
        "  if float(data[5]) != 0:\n",
        "    age.append(float(data[5]))\n",
        "    savings.append(float(data[0]))\n",
        "\n",
        "correlation = np.corrcoef(age, savings)\n",
        "print(f\"Correlation between the age of the person and their savings is - {correlation[0,1]}\")"
      ],
      "metadata": {
        "id": "2IZ284-fDNcm"
      },
      "execution_count": null,
      "outputs": []
    },
    {
      "cell_type": "code",
      "source": [
        "import plotly.figure_factory as ff\n",
        "\n",
        "fig = ff.create_distplot([df[\"quant_saved\"].tolist()], [\"Savings\"])\n",
        "fig.show()"
      ],
      "metadata": {
        "id": "ObefmaoDDPPH"
      },
      "execution_count": null,
      "outputs": []
    }
  ]
}