{
  "nbformat": 4,
  "nbformat_minor": 0,
  "metadata": {
    "colab": {
      "name": "C-104",
      "provenance": [],
      "include_colab_link": true
    },
    "kernelspec": {
      "name": "python3",
      "display_name": "Python 3"
    }
  },
  "cells": [
    {
      "cell_type": "markdown",
      "metadata": {
        "id": "view-in-github",
        "colab_type": "text"
      },
      "source": [
        "<a href=\"https://colab.research.google.com/github/priyanka-sidhuraj/67/blob/master/C_104.ipynb\" target=\"_parent\"><img src=\"https://colab.research.google.com/assets/colab-badge.svg\" alt=\"Open In Colab\"/></a>"
      ]
    },
    {
      "cell_type": "code",
      "metadata": {
        "id": "_7Qmpm0mYg7G"
      },
      "source": [
        "a=[23,25,26,40,30,23,46,55]\n",
        "n = len(a)\n",
        "total = 0\n",
        "\n",
        "for x in a:\n",
        "  total += x\n",
        "\n",
        "mean = total/n\n",
        "print(\"Mean / Average is: \" + str(mean))"
      ],
      "execution_count": null,
      "outputs": []
    },
    {
      "cell_type": "code",
      "source": [
        "from statistics import mean\n",
        "a=[23,25,26,40,30,23,46,55]\n",
        "print(mean(a))\n"
      ],
      "metadata": {
        "id": "FjFKPslOfJG-"
      },
      "execution_count": null,
      "outputs": []
    },
    {
      "cell_type": "code",
      "source": [
        "a=[23,25,26,40,30,23,46,55]\n",
        "a.sort()\n",
        "n=len(a)\n",
        "if n % 2 == 0:\n",
        "    #getting the first number\n",
        "\tmedian1 = float(a[n//2])\n",
        "    #getting the second number\n",
        "\tmedian2 = float(a[n//2 - 1])\n",
        "    #getting mean of those numbers\n",
        "\tmedian = (median1 + median2)/2\n",
        "else:\n",
        "\tmedian =a[n//2]\n",
        "\n",
        "print(\"Median is: \" + str(median))"
      ],
      "metadata": {
        "id": "ityErxkAfLrO"
      },
      "execution_count": null,
      "outputs": []
    },
    {
      "cell_type": "code",
      "source": [
        "from statistics import median\n",
        "a=[23,25,26,40,30,23,46,55]\n",
        "print(median(a))"
      ],
      "metadata": {
        "id": "BhBBlyKHfNfk"
      },
      "execution_count": null,
      "outputs": []
    },
    {
      "cell_type": "code",
      "source": [
        "from collections import Counter\n",
        "\n",
        "a=[23,25,26,40,30,23,46,55]\n",
        "data = Counter(a)\n",
        "print(data)\n",
        "\n",
        "new_list = data.items()\n",
        "print(new_list)\n",
        "\n",
        "value = data.values()\n",
        "print(value)\n",
        "\n",
        "a=[23,25,26,40,30,23,46,55]\n",
        "print(mode(a))"
      ],
      "metadata": {
        "id": "KoSNqJmsfSJe"
      },
      "execution_count": null,
      "outputs": []
    },
    {
      "cell_type": "code",
      "source": [
        "from google.colab import files\n",
        "data_to_load = files.upload()"
      ],
      "metadata": {
        "id": "vlT-XDvcfV01"
      },
      "execution_count": null,
      "outputs": []
    },
    {
      "cell_type": "code",
      "source": [
        "import pandas as pd\n",
        "from statistics import mode\n",
        "\n",
        "df = pd.read_csv('SOCR-HeightWeight.csv') \n",
        "Height_mode= df['Height(Inches)'].mode()[0]\n",
        "Weight_mode=df['Weight(Pounds)'].mode()[0]\n",
        "print('Height mode: '+format(Height_mode))\n",
        "print('Weight mode: '+format(Weight_mode))\n"
      ],
      "metadata": {
        "id": "i_AnL2-ofaHV"
      },
      "execution_count": null,
      "outputs": []
    },
    {
      "cell_type": "code",
      "source": [
        "\n",
        "import pandas as pd\n",
        "from statistics import mean\n",
        "\n",
        "df = pd.read_csv('SOCR-HeightWeight.csv') \n",
        "Height_mean = df['Height(Inches)'].mean()\n",
        "Weight_mean=df['Weight(Pounds)'].mean()\n",
        "print('Height mean: '+format(Height_mean))\n",
        "print('Weight mean: '+format(Weight_mean))"
      ],
      "metadata": {
        "id": "4SCBzQG5fY08"
      },
      "execution_count": null,
      "outputs": []
    },
    {
      "cell_type": "code",
      "source": [
        "import pandas as pd\n",
        "from statistics import mode\n",
        "\n",
        "df = pd.read_csv('SOCR-HeightWeight.csv') \n",
        "Height_median = df['Height(Inches)'].median()\n",
        "Weight_median = df['Weight(Pounds)'].median()\n",
        "print('Height median: '+format(Height_median))\n",
        "print('Weight median: '+format(Weight_median))"
      ],
      "metadata": {
        "id": "YAyRuEbTfXcO"
      },
      "execution_count": null,
      "outputs": []
    },
    {
      "cell_type": "code",
      "source": [
        ""
      ],
      "metadata": {
        "id": "uM5LZ5P1fDX5"
      },
      "execution_count": null,
      "outputs": []
    }
  ]
}