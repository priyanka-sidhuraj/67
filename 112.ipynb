{
  "nbformat": 4,
  "nbformat_minor": 0,
  "metadata": {
    "colab": {
      "name": "112",
      "provenance": [],
      "collapsed_sections": [],
      "authorship_tag": "ABX9TyNV3xjMSIm6j/efr8crcZrk",
      "include_colab_link": true
    },
    "kernelspec": {
      "name": "python3",
      "display_name": "Python 3"
    },
    "language_info": {
      "name": "python"
    }
  },
  "cells": [
    {
      "cell_type": "markdown",
      "metadata": {
        "id": "view-in-github",
        "colab_type": "text"
      },
      "source": [
        "<a href=\"https://colab.research.google.com/github/priyanka-sidhuraj/67/blob/master/112.ipynb\" target=\"_parent\"><img src=\"https://colab.research.google.com/assets/colab-badge.svg\" alt=\"Open In Colab\"/></a>"
      ]
    },
    {
      "cell_type": "code",
      "execution_count": null,
      "metadata": {
        "id": "YVFl1cL8QRxB"
      },
      "outputs": [],
      "source": [
        "import pandas as pd\n",
        "import plotly.express as px\n",
        "\n",
        "df = pd.read_csv(\"/content/112.csv\")\n",
        "fig = px.scatter(df, y=\"quant_saved\", color=\"rem_any\")\n",
        "fig.show()"
      ]
    },
    {
      "cell_type": "code",
      "source": [
        "import seaborn as sns\n",
        "\n",
        "sns.boxplot(data=df, x=df[\"quant_saved\"])"
      ],
      "metadata": {
        "id": "60ZnTgasQv16"
      },
      "execution_count": null,
      "outputs": []
    },
    {
      "cell_type": "code",
      "source": [
        "q1 = df[\"quant_saved\"].quantile(0.25)\n",
        "q3 = df[\"quant_saved\"].quantile(0.75)\n",
        "iqr = q3-q1\n",
        "\n",
        "print(f\"Q1 - {q1}\")\n",
        "print(f\"Q3 - {q3}\")\n",
        "print(f\"IQR - {iqr}\")\n",
        "\n",
        "lower_whisker = q1 - 1.5*iqr\n",
        "upper_whisker = q3 + 1.5*iqr\n",
        "\n",
        "print(f\"Lower Whisker - {lower_whisker}\")\n",
        "print(f\"Upper Whisker - {upper_whisker}\")\n",
        "\n",
        "#Creating a new DataFrame\n",
        "new_df = df[df[\"quant_saved\"] < upper_whisker]"
      ],
      "metadata": {
        "id": "rJmv3bClQ0yF"
      },
      "execution_count": null,
      "outputs": []
    },
    {
      "cell_type": "code",
      "source": [
        "#Mean, median and mode of savings\n",
        "import statistics\n",
        "import plotly.figure_factory as ff\n",
        "\n",
        "all_savings = new_df[\"quant_saved\"].tolist()\n",
        "\n",
        "print(f\"Mean of savings - {statistics.mean(all_savings)}\")\n",
        "print(f\"Median of savings - {statistics.median(all_savings)}\")\n",
        "print(f\"Mode of savings - {statistics.mode(all_savings)}\")\n",
        "print(f\"Standard deviation in savings - {statistics.stdev(all_savings)}\")\n",
        "\n",
        "fig = ff.create_distplot([new_df[\"quant_saved\"].tolist()], [\"Savings\"], show_hist=False)\n",
        "fig.show()"
      ],
      "metadata": {
        "id": "H_myCTx1Q3I8"
      },
      "execution_count": null,
      "outputs": []
    },
    {
      "cell_type": "code",
      "source": [
        "import random\n",
        "import plotly.figure_factory as ff\n",
        "import csv\n",
        "import statistics\n",
        "\n",
        "with open('/content/112.csv', newline=\"\") as f:\n",
        "  reader = csv.reader(f)\n",
        "  savings_data = list(reader)\n",
        "\n",
        "savings_data.pop(0)\n",
        "\n",
        "all_savings = []\n",
        "for data in savings_data:\n",
        "  all_savings.append(float(data[0]))\n",
        "sampling_mean_list = []\n",
        "\n",
        "for i in range(1000):\n",
        "  temp_list = []\n",
        "  for j in range(100):\n",
        "    temp_list.append(random.choice(all_savings))\n",
        "  sampling_mean_list.append(statistics.mean(temp_list))\n",
        "\n",
        "mean_sampling = statistics.mean(sampling_mean_list)\n",
        "\n",
        "fig = ff.create_distplot([sampling_mean_list], [\"Savings (Sampling)\"], show_hist=False)\n",
        "\n",
        "fig.show()"
      ],
      "metadata": {
        "id": "R_rqvmMbQ7B-"
      },
      "execution_count": null,
      "outputs": []
    },
    {
      "cell_type": "code",
      "source": [
        "z_score = (statistics.mean(sampling_mean_list) - statistics.mean(all_savings)) / statistics.stdev(all_savings)\n",
        "print(f\"Z-Score is - {z_score}\")"
      ],
      "metadata": {
        "colab": {
          "base_uri": "https://localhost:8080/"
        },
        "id": "rU1xm4gDUBje",
        "outputId": "e95bb281-1737-4ce6-fbd5-5583faf39d21"
      },
      "execution_count": 13,
      "outputs": [
        {
          "output_type": "stream",
          "name": "stdout",
          "text": [
            "Z-Score is - 0.7884941833184501\n"
          ]
        }
      ]
    },
    {
      "cell_type": "markdown",
      "source": [
        "With our Z-Score test, we confirmed that there is not much difference. The Z-Score is around 0.8; it is only when the Z-Score is greater than 2 that we consider the change as significant. Although people who were reminded had a little increase in savings, there's still no significant impact.\n"
      ],
      "metadata": {
        "id": "L-RhDJh1UoTu"
      }
    }
  ]
}